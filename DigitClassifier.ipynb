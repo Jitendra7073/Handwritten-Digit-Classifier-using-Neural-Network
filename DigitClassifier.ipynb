{
 "cells": [
  {
   "cell_type": "markdown",
   "id": "81a49f3f",
   "metadata": {},
   "source": [
    "### <center><p style=\"color:orange\">Handwritten digit recognition</p></center>"
   ]
  },
  {
   "cell_type": "markdown",
   "id": "b320917e",
   "metadata": {},
   "source": [
    "#### Importing Libraries"
   ]
  },
  {
   "cell_type": "code",
   "execution_count": 47,
   "id": "38f9693e",
   "metadata": {},
   "outputs": [],
   "source": [
    "import numpy as np\n",
    "import pandas as pd\n",
    "import matplotlib.pyplot as plt\n",
    "from PIL import Image, ImageOps\n",
    "from scipy.ndimage import center_of_mass, shift"
   ]
  },
  {
   "cell_type": "markdown",
   "id": "ca6338a2",
   "metadata": {},
   "source": [
    "#### Load Dataset (CSV File)"
   ]
  },
  {
   "cell_type": "code",
   "execution_count": 48,
   "id": "de241e40",
   "metadata": {},
   "outputs": [],
   "source": [
    "data = pd.read_csv(\"./train.csv\")\n",
    "data = np.array(data)\n",
    "np.random.shuffle(data)"
   ]
  },
  {
   "cell_type": "markdown",
   "id": "7fbd87b4",
   "metadata": {},
   "source": [
    "#### Split the data into Testing and Training part"
   ]
  },
  {
   "cell_type": "code",
   "execution_count": 49,
   "id": "20680ad7",
   "metadata": {},
   "outputs": [],
   "source": [
    "# Split test\n",
    "data_dev = data[:1000].T\n",
    "Y_dev = data_dev[0]\n",
    "X_dev = data_dev[1:] / 255.0\n",
    "\n",
    "# Split train\n",
    "data_train = data[1000:].T\n",
    "Y_train = data_train[0]\n",
    "X_train = data_train[1:] / 255.0\n",
    "_, m_train = X_train.shape"
   ]
  },
  {
   "cell_type": "code",
   "execution_count": 50,
   "id": "672e4e4f",
   "metadata": {},
   "outputs": [],
   "source": [
    "def initialize_parameters():\n",
    "    \"\"\"\n",
    "    Initialize weights and biases for a 2-layer neural network.\n",
    "\n",
    "    Returns:\n",
    "        W1 (ndarray): Weight matrix for layer 1 of shape (10, 784)\n",
    "        b1 (ndarray): Bias vector for layer 1 of shape (10, 1)\n",
    "        W2 (ndarray): Weight matrix for layer 2 of shape (10, 10)\n",
    "        b2 (ndarray): Bias vector for layer 2 of shape (10, 1)\n",
    "    \"\"\"\n",
    "    W1 = np.random.randn(10, 784) * 0.01\n",
    "    b1 = np.zeros((10, 1))\n",
    "    W2 = np.random.randn(10, 10) * 0.01\n",
    "    b2 = np.zeros((10, 1))\n",
    "    return W1, b1, W2, b2\n",
    "\n",
    "\n",
    "def ReLU(Z):\n",
    "    \"\"\"\n",
    "    Apply ReLU activation function element-wise.\n",
    "\n",
    "    Args:\n",
    "        Z (ndarray): Input array.\n",
    "\n",
    "    Returns:\n",
    "        ndarray: Output after applying ReLU.\n",
    "    \"\"\"\n",
    "    return np.maximum(Z, 0)\n",
    "\n",
    "\n",
    "def relu_derivative(Z):\n",
    "    \"\"\"\n",
    "    Compute derivative of ReLU activation.\n",
    "\n",
    "    Args:\n",
    "        Z (ndarray): Input array.\n",
    "\n",
    "    Returns:\n",
    "        ndarray: Derivative of ReLU.\n",
    "    \"\"\"\n",
    "    return Z > 0\n",
    "\n",
    "\n",
    "def softmax(Z):\n",
    "    \"\"\"\n",
    "    Apply softmax function for multi-class classification.\n",
    "\n",
    "    Args:\n",
    "        Z (ndarray): Input array of shape (num_classes, num_samples).\n",
    "\n",
    "    Returns:\n",
    "        ndarray: Softmax probabilities.\n",
    "    \"\"\"\n",
    "    expZ = np.exp(Z - np.max(Z, axis=0)) \n",
    "    return expZ / np.sum(expZ, axis=0, keepdims=True)\n",
    "\n",
    "\n",
    "def forward_propagation(W1, b1, W2, b2, X):\n",
    "    \"\"\"\n",
    "    Perform forward propagation through the 2-layer neural network.\n",
    "\n",
    "    Args:\n",
    "        W1, b1: Parameters for first layer\n",
    "        W2, b2: Parameters for second layer\n",
    "        X (ndarray): Input data of shape (784, m)\n",
    "\n",
    "    Returns:\n",
    "        Z1, A1, Z2, A2: Intermediate computations\n",
    "    \"\"\"\n",
    "    Z1 = W1 @ X + b1\n",
    "    A1 = ReLU(Z1)\n",
    "    Z2 = W2 @ A1 + b2\n",
    "    A2 = softmax(Z2)\n",
    "    return Z1, A1, Z2, A2\n",
    "\n",
    "\n",
    "def one_hot_encode(Y):\n",
    "    \"\"\"\n",
    "    One-hot encode label vector Y.\n",
    "\n",
    "    Args:\n",
    "        Y (ndarray): Label vector of shape (m,)\n",
    "\n",
    "    Returns:\n",
    "        one_hot_Y (ndarray): One-hot encoded matrix of shape (num_classes, m)\n",
    "    \"\"\"\n",
    "    one_hot_Y = np.zeros((Y.max() + 1, Y.size))\n",
    "    one_hot_Y[Y, np.arange(Y.size)] = 1\n",
    "    return one_hot_Y\n",
    "\n",
    "\n",
    "def backward_propagation(Z1, A1, Z2, A2, W2, X, Y):\n",
    "    \"\"\"\n",
    "    Perform backward propagation to compute gradients.\n",
    "\n",
    "    Args:\n",
    "        Z1, A1, Z2, A2: Values from forward pass\n",
    "        W2 (ndarray): Weight matrix of layer 2\n",
    "        X (ndarray): Input data\n",
    "        Y (ndarray): True labels\n",
    "\n",
    "    Returns:\n",
    "        Gradients dW1, db1, dW2, db2\n",
    "    \"\"\"\n",
    "    m = Y.size\n",
    "    one_hot_Y = one_hot_encode(Y)\n",
    "\n",
    "    dZ2 = A2 - one_hot_Y\n",
    "    dW2 = (1 / m) * dZ2 @ A1.T\n",
    "    db2 = (1 / m) * np.sum(dZ2, axis=1, keepdims=True)\n",
    "\n",
    "    dZ1 = W2.T @ dZ2 * relu_derivative(Z1)\n",
    "    dW1 = (1 / m) * dZ1 @ X.T\n",
    "    db1 = (1 / m) * np.sum(dZ1, axis=1, keepdims=True)\n",
    "\n",
    "    return dW1, db1, dW2, db2\n",
    "\n",
    "\n",
    "def update_parameters(W1, b1, W2, b2, dW1, db1, dW2, db2, alpha):\n",
    "    \"\"\"\n",
    "    Update weights and biases using gradient descent.\n",
    "\n",
    "    Args:\n",
    "        W1, b1, W2, b2: Current parameters\n",
    "        dW1, db1, dW2, db2: Gradients\n",
    "        alpha (float): Learning rate\n",
    "\n",
    "    Returns:\n",
    "        Updated W1, b1, W2, b2\n",
    "    \"\"\"\n",
    "    W1 -= alpha * dW1\n",
    "    b1 -= alpha * db1\n",
    "    W2 -= alpha * dW2\n",
    "    b2 -= alpha * db2\n",
    "    return W1, b1, W2, b2\n",
    "\n",
    "\n",
    "def get_predictions(A2):\n",
    "    \"\"\"\n",
    "    Get predicted class labels from output layer.\n",
    "\n",
    "    Args:\n",
    "        A2 (ndarray): Softmax probabilities of shape (10, m)\n",
    "\n",
    "    Returns:\n",
    "        ndarray: Predicted labels of shape (m,)\n",
    "    \"\"\"\n",
    "    return np.argmax(A2, axis=0)\n",
    "\n",
    "\n",
    "def get_accuracy(predictions, Y):\n",
    "    \"\"\"\n",
    "    Calculate accuracy between predictions and true labels.\n",
    "\n",
    "    Args:\n",
    "        predictions (ndarray): Predicted labels\n",
    "        Y (ndarray): True labels\n",
    "\n",
    "    Returns:\n",
    "        float: Accuracy score between 0 and 1\n",
    "    \"\"\"\n",
    "    return np.mean(predictions == Y)"
   ]
  },
  {
   "cell_type": "markdown",
   "id": "bbedcbdc",
   "metadata": {},
   "source": [
    "#### Training model function"
   ]
  },
  {
   "cell_type": "code",
   "execution_count": 51,
   "id": "0ff3dcfc",
   "metadata": {},
   "outputs": [],
   "source": [
    "def train_model(X, Y, alpha=0.1, iterations=500):\n",
    "    W1, b1, W2, b2 = initialize_parameters()\n",
    "    for i in range(iterations):\n",
    "        Z1, A1, Z2, A2 = forward_propagation(W1, b1, W2, b2, X)\n",
    "        dW1, db1, dW2, db2 = backward_propagation(Z1, A1, Z2, A2, W2, X, Y)\n",
    "        W1, b1, W2, b2 = update_parameters(W1, b1, W2, b2, dW1, db1, dW2, db2, alpha)\n",
    "        if i % 50 == 0:\n",
    "            predictions = get_predictions(A2)\n",
    "            accuracy = get_accuracy(predictions, Y)\n",
    "            print(f\"Iteration {i}: Accuracy = {accuracy * 100:.2f}%\")\n",
    "    return W1, b1, W2, b2\n"
   ]
  },
  {
   "cell_type": "markdown",
   "id": "ad5a9de0",
   "metadata": {},
   "source": [
    "#### training the Model "
   ]
  },
  {
   "cell_type": "code",
   "execution_count": 52,
   "id": "89649d8d",
   "metadata": {},
   "outputs": [
    {
     "name": "stdout",
     "output_type": "stream",
     "text": [
      "Iteration 0: Accuracy = 9.23%\n",
      "Iteration 50: Accuracy = 22.90%\n",
      "Iteration 100: Accuracy = 58.00%\n",
      "Iteration 150: Accuracy = 74.88%\n",
      "Iteration 200: Accuracy = 81.23%\n",
      "Iteration 250: Accuracy = 84.60%\n",
      "Iteration 300: Accuracy = 86.50%\n",
      "Iteration 350: Accuracy = 87.66%\n",
      "Iteration 400: Accuracy = 88.44%\n",
      "Iteration 450: Accuracy = 88.95%\n",
      "Iteration 500: Accuracy = 89.40%\n",
      "Iteration 550: Accuracy = 89.70%\n",
      "Iteration 600: Accuracy = 89.99%\n",
      "Iteration 650: Accuracy = 90.25%\n",
      "Iteration 700: Accuracy = 90.50%\n",
      "Iteration 750: Accuracy = 90.71%\n",
      "Iteration 800: Accuracy = 90.93%\n",
      "Iteration 850: Accuracy = 91.10%\n",
      "Iteration 900: Accuracy = 91.21%\n",
      "Iteration 950: Accuracy = 91.33%\n"
     ]
    }
   ],
   "source": [
    "W1, b1, W2, b2 = train_model(X_train, Y_train, alpha=0.1, iterations=1000) # training the model \n"
   ]
  },
  {
   "cell_type": "markdown",
   "id": "1eca0c90",
   "metadata": {},
   "source": [
    "#### Preprocessing image"
   ]
  },
  {
   "cell_type": "code",
   "execution_count": 53,
   "id": "366ba904",
   "metadata": {},
   "outputs": [],
   "source": [
    "def preprocess_image_from_path(image_path):\n",
    "    image = Image.open(image_path).convert(\"L\")  # converting into gray scale\n",
    "    image = ImageOps.invert(image)\n",
    "    image = image.resize((28, 28))\n",
    "    img_array = np.array(image).astype(np.float32) / 255.0\n",
    "\n",
    "    cy, cx = center_of_mass(img_array)\n",
    "    shift_y = 14 - cy\n",
    "    shift_x = 14 - cx\n",
    "    img_array = shift(img_array, shift=(shift_y, shift_x), mode='constant', cval=0.0)\n",
    "\n",
    "    return img_array.reshape(784, 1)\n",
    "\n",
    "def predict_digit_from_image(image_path):\n",
    "    X_input = preprocess_image_from_path(image_path)\n",
    "    _, _, _, A2 = forward_propagation(W1, b1, W2, b2, X_input)\n",
    "    prediction = get_predictions(A2)[0]\n",
    "    print(f\"We found digit {prediction}\")\n"
   ]
  },
  {
   "cell_type": "markdown",
   "id": "ae988cc4",
   "metadata": {},
   "source": [
    "#### Testing Model"
   ]
  },
  {
   "cell_type": "code",
   "execution_count": 54,
   "id": "389c1e53",
   "metadata": {},
   "outputs": [
    {
     "name": "stdout",
     "output_type": "stream",
     "text": [
      "We found digit 0\n"
     ]
    }
   ],
   "source": [
    "predict_digit_from_image(\"./Testing_data/digit_0.png\")\n"
   ]
  }
 ],
 "metadata": {
  "kernelspec": {
   "display_name": "base",
   "language": "python",
   "name": "python3"
  },
  "language_info": {
   "codemirror_mode": {
    "name": "ipython",
    "version": 3
   },
   "file_extension": ".py",
   "mimetype": "text/x-python",
   "name": "python",
   "nbconvert_exporter": "python",
   "pygments_lexer": "ipython3",
   "version": "3.12.7"
  }
 },
 "nbformat": 4,
 "nbformat_minor": 5
}
